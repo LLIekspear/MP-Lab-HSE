{
 "cells": [
  {
   "cell_type": "code",
   "execution_count": 15,
   "id": "345defa4",
   "metadata": {},
   "outputs": [],
   "source": [
    "import random\n",
    "\n",
    "familii=[\"Фролов(-а)\", \"Онищенко\", \"Воловик\", \"Ушаков(-а)\", \"Никитченко\", \"Бронштейн\", \"Муссолини\", \"Краско\", \"Ташлыков(-а)\", \"Нестеренко\"]\n",
    "imena=[\"Олег\", \"Мария\", \"Ангелина\", \"Илья\", \"Владислав(-а)\", \"Вадим\", \"Рауль\", \"Анастасия\", \"Бенито\", \"София\"]\n",
    "otchestva=[\"Витальевич(-вна)\", \"Максимович(-вна)\", \"Георгиевич(-вна)\", \"Олегович(-вна)\", \"Николаевич(-вна)\", \"Александрович(-вна)\", \"Григорьевич(-вна)\", \"Артемович(-вна)\", \"Эдуардович(-вна)\", \"Львович(-вна)\"]\n",
    "\n",
    "def data_create(n: int):\n",
    "    res=[]\n",
    "    for i in range(n):\n",
    "        result=\"\"\n",
    "        child_amount=random.randrange(5)\n",
    "        year=random.randint(1900, 2050)\n",
    "        year_death=year+random.randint(18, 110)\n",
    "        fio=familii[random.randint(0, len(familii)-1)]+\" \"+imena[random.randint(0, len(imena)-1)]+\" \"+otchestva[random.randint(0, len(otchestva)-1)]\n",
    "        result=str(fio)+\" \"+ str(year)+\" \"+str(year_death)+\" \"+str(child_amount)\n",
    "        res.append(result)\n",
    "    \n",
    "    return res"
   ]
  },
  {
   "cell_type": "code",
   "execution_count": 22,
   "id": "b11baeda",
   "metadata": {},
   "outputs": [],
   "source": [
    "def gen_values():\n",
    "    cycle=random.randint(7, 11)\n",
    "    for i in range(cycle):\n",
    "        amount=random.randint(100, 100100)\n",
    "        data=data_create(amount)\n",
    "        #исправить utf-8 на ansi и проверить!\n",
    "        file=open(\"data_\"+str(i)+\".txt\", 'w', encoding='ansi')\n",
    "        for elem in data:\n",
    "            file.write(elem)\n",
    "            file.write('\\n')\n",
    "        file.close()\n",
    "gen_values()"
   ]
  },
  {
   "cell_type": "code",
   "execution_count": 20,
   "id": "4d7f79d8",
   "metadata": {},
   "outputs": [],
   "source": [
    "test=data_create(4)\n",
    "file=open('test.txt', 'w', encoding='utf-8')\n",
    "for elem in test:\n",
    "    file.write(elem)\n",
    "    file.write('\\n')\n",
    "file.close()\n"
   ]
  },
  {
   "cell_type": "code",
   "execution_count": null,
   "id": "a2aa7cbe",
   "metadata": {},
   "outputs": [],
   "source": []
  }
 ],
 "metadata": {
  "kernelspec": {
   "display_name": "Python 3 (ipykernel)",
   "language": "python",
   "name": "python3"
  },
  "language_info": {
   "codemirror_mode": {
    "name": "ipython",
    "version": 3
   },
   "file_extension": ".py",
   "mimetype": "text/x-python",
   "name": "python",
   "nbconvert_exporter": "python",
   "pygments_lexer": "ipython3",
   "version": "3.9.12"
  }
 },
 "nbformat": 4,
 "nbformat_minor": 5
}
